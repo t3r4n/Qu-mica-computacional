{
  "nbformat": 4,
  "nbformat_minor": 0,
  "metadata": {
    "colab": {
      "private_outputs": true,
      "provenance": [],
      "authorship_tag": "ABX9TyOuRfaaVKL8c4AvikvY9YdL",
      "include_colab_link": true
    },
    "kernelspec": {
      "name": "python3",
      "display_name": "Python 3"
    },
    "language_info": {
      "name": "python"
    }
  },
  "cells": [
    {
      "cell_type": "markdown",
      "metadata": {
        "id": "view-in-github",
        "colab_type": "text"
      },
      "source": [
        "<a href=\"https://colab.research.google.com/github/t3r4n/Qu-mica-computacional/blob/Transformaci%C3%B3n-a-grafos/Grafos_nuevo.ipynb\" target=\"_parent\"><img src=\"https://colab.research.google.com/assets/colab-badge.svg\" alt=\"Open In Colab\"/></a>"
      ]
    },
    {
      "cell_type": "code",
      "execution_count": null,
      "metadata": {
        "id": "v6vHT1Zwnjs-"
      },
      "outputs": [],
      "source": [
        "import rdkit\n",
        "from rdkit import Chem\n",
        "from rdkit.Chem import rdDepictor\n",
        "import networkx as nx\n",
        "import matplotlib.pyplot as plt\n",
        "import os"
      ]
    },
    {
      "cell_type": "code",
      "source": [
        "file_path = r\"/content/base_mol2.mol2\"\n",
        "if os.path.exists(file_path):\n",
        "    print(\"El archivo existe y está accesible.\")\n",
        "else:\n",
        "    print(\"El archivo NO existe o la ruta es incorrecta.\")"
      ],
      "metadata": {
        "id": "Cotvx_rioEGb"
      },
      "execution_count": null,
      "outputs": []
    },
    {
      "cell_type": "code",
      "source": [
        "file_path = r\"/content/base_mol2.mol2\"\n",
        "with open(file_path, \"r\") as f:\n",
        "    mol2_block = f.read()\n",
        "mol = Chem.MolFromMol2Block(mol2_block, sanitize=True, removeHs=False)\n",
        "if mol:\n",
        "    print(\"✅ Archivo .mol2 cargado correctamente en RDKit\")\n",
        "else:\n",
        "    print(\"❌ Error al cargar el archivo .mol2 en RDKit\")"
      ],
      "metadata": {
        "id": "R6WLggEuoG0c"
      },
      "execution_count": null,
      "outputs": []
    },
    {
      "cell_type": "code",
      "source": [
        "import networkx as nx\n",
        "import plotly.graph_objects as go\n",
        "import numpy as np\n",
        "from rdkit import Chem\n",
        "from rdkit.Chem import AllChem\n",
        "\n",
        "# Leer el archivo .mol2 con RDKit\n",
        "#mol = Chem.MolFromMol2File('ruta/a/tu/archivo.mol2')\n",
        "\n",
        "# Crear el grafo\n",
        "G = nx.Graph()\n",
        "\n",
        "# Agregar nodos (átomos)\n",
        "for atom in mol.GetAtoms():\n",
        "    G.add_node(atom.GetIdx(),\n",
        "               element=atom.GetSymbol(),\n",
        "               charge=atom.GetFormalCharge())\n",
        "\n",
        "# Agregar aristas (enlaces)\n",
        "for bond in mol.GetBonds():\n",
        "    G.add_edge(bond.GetBeginAtomIdx(), bond.GetEndAtomIdx(),\n",
        "               order=bond.GetBondTypeAsDouble())  # 1.0 (simple), 2.0 (doble), etc.\n",
        "\n",
        "# Posiciones 3D con layout de spring (dim=3 para 3D)\n",
        "pos = nx.spring_layout(G, dim=3, seed=42)  # Usamos NetworkX para obtener un layout en 3D\n",
        "\n",
        "# Obtener las coordenadas de los nodos (átomos)\n",
        "xyz = np.array([pos[i] for i in G.nodes()])\n",
        "node_x, node_y, node_z = xyz[:, 0], xyz[:, 1], xyz[:, 2]\n",
        "\n",
        "# Crear aristas con colores y grosor proporcional al tipo de enlace\n",
        "edge_traces = []\n",
        "for u, v, data in G.edges(data=True):\n",
        "    x0, y0, z0 = pos[u]\n",
        "    x1, y1, z1 = pos[v]\n",
        "    order = int(round(data.get(\"order\", 1.0)))  # Orden del enlace (1, 2, 3)\n",
        "\n",
        "    # Vector unitario perpendicular para desplazar líneas paralelas (pequeño offset)\n",
        "    offset = np.array([0.03, 0.03, 0.03])\n",
        "\n",
        "    # Determinamos el color según el orden del enlace\n",
        "    if order == 1:\n",
        "        color = 'gray'  # Enlace simple (gris)\n",
        "    elif order == 2:\n",
        "        color = 'red'  # Enlace doble (rojo)\n",
        "    else:\n",
        "        color = 'blue'  # Enlace triple (azul)\n",
        "\n",
        "    for i in range(order):\n",
        "        # Desplazar un poco si es enlace doble o triple\n",
        "        disp = (i - (order - 1)/2) * offset if order > 1 else np.array([0, 0, 0])\n",
        "        start = np.array([x0, y0, z0]) + disp\n",
        "        end = np.array([x1, y1, z1]) + disp\n",
        "        edge_traces.append(go.Scatter3d(\n",
        "            x=[start[0], end[0], None],\n",
        "            y=[start[1], end[1], None],\n",
        "            z=[start[2], end[2], None],\n",
        "            mode='lines',\n",
        "            line=dict(color=color, width=3),  # Color según el enlace\n",
        "            hoverinfo='skip'\n",
        "        ))\n",
        "\n",
        "# Crear nodos con colores por elemento\n",
        "element_colors = {\n",
        "    \"H\": \"white\",\n",
        "    \"C\": \"black\",\n",
        "    \"N\": \"blue\",\n",
        "    \"O\": \"red\",\n",
        "    \"F\": \"green\",\n",
        "    \"Cl\": \"green\",\n",
        "    \"Br\": \"brown\",\n",
        "    \"I\": \"purple\",\n",
        "    \"S\": \"yellow\",\n",
        "    \"P\": \"orange\",\n",
        "}\n",
        "\n",
        "node_trace = go.Scatter3d(\n",
        "    x=node_x, y=node_y, z=node_z,\n",
        "    mode='markers+text',\n",
        "    marker=dict(\n",
        "        size=6,\n",
        "        color=[element_colors.get(G.nodes[i][\"element\"], \"pink\") for i in G.nodes()],\n",
        "        line=dict(width=1, color='black')\n",
        "    ),\n",
        "    text=[G.nodes[i]['element'] for i in G.nodes()],\n",
        "    textposition='top center',\n",
        "    hovertext=[\n",
        "        f\"Átomo: {G.nodes[i]['element']}<br>Carga: {G.nodes[i]['charge']}\"\n",
        "        for i in G.nodes()\n",
        "    ],\n",
        "    hoverinfo='text'\n",
        ")\n",
        "\n",
        "# Crear figura\n",
        "fig = go.Figure(data=edge_traces + [node_trace],\n",
        "                layout=go.Layout(\n",
        "                    title=\"🔬 Grafo Molecular 3D (colores por enlace y átomo)\",\n",
        "                    showlegend=False,\n",
        "                    margin=dict(l=0, r=0, b=0, t=40),\n",
        "                    scene=dict(\n",
        "                        xaxis=dict(visible=False),\n",
        "                        yaxis=dict(visible=False),\n",
        "                        zaxis=dict(visible=False)\n",
        "                    )\n",
        "                ))\n",
        "\n",
        "fig.show()\n"
      ],
      "metadata": {
        "id": "JTDI6dqVquQi"
      },
      "execution_count": null,
      "outputs": []
    }
  ]
}